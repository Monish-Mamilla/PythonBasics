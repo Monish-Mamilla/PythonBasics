{
  "cells": [
    {
      "cell_type": "markdown",
      "metadata": {
        "vscode": {
          "languageId": "plaintext"
        }
      },
      "source": [
        "#### Decoder - Python"
      ]
    },
    {
      "cell_type": "code",
      "execution_count": 3,
      "metadata": {},
      "outputs": [],
      "source": [
        "import time\n",
        "\n",
        "def get_square(numbers):\n",
        "    start = time.time()\n",
        "    result = []\n",
        "    for n in numbers:\n",
        "        result.append(n*n)\n",
        "    end = time.time()\n",
        "    print(f\"get_square took {(end - start)*1000} mil seconds\")\n",
        "    return result"
      ]
    },
    {
      "cell_type": "code",
      "execution_count": 4,
      "metadata": {},
      "outputs": [],
      "source": [
        "def get_cube(numbers):\n",
        "    start = time.time()\n",
        "    result = []\n",
        "    for n in numbers:\n",
        "        result.append(n*n*n)\n",
        "    end = time.time()    \n",
        "    print(f\"get_cube took {(end - start)*1000} mil seconds\")\n",
        "    return result"
      ]
    },
    {
      "cell_type": "code",
      "execution_count": 5,
      "metadata": {},
      "outputs": [
        {
          "name": "stdout",
          "output_type": "stream",
          "text": [
            "get_square took 0.00095367431640625 mil seconds\n"
          ]
        },
        {
          "data": {
            "text/plain": [
              "[1, 4, 9, 16, 25]"
            ]
          },
          "execution_count": 5,
          "metadata": {},
          "output_type": "execute_result"
        }
      ],
      "source": [
        "mylist = [1,2,3,4,5]\n",
        "get_square(mylist)"
      ]
    },
    {
      "cell_type": "code",
      "execution_count": 6,
      "metadata": {},
      "outputs": [
        {
          "name": "stdout",
          "output_type": "stream",
          "text": [
            "get_cube took 0.00286102294921875 mil seconds\n"
          ]
        },
        {
          "data": {
            "text/plain": [
              "[1, 8, 27, 64, 125]"
            ]
          },
          "execution_count": 6,
          "metadata": {},
          "output_type": "execute_result"
        }
      ],
      "source": [
        "get_cube(mylist)"
      ]
    },
    {
      "cell_type": "code",
      "execution_count": 7,
      "metadata": {},
      "outputs": [],
      "source": [
        "def timer(func):\n",
        "    def wrapper(*args,**kwargs):\n",
        "        start = time.time()\n",
        "        result = func(*args,**kwargs)\n",
        "        end = time.time()\n",
        "        print(f\"Function {func.__name__} took {(end - start) * 1000} seconds\")\n",
        "        return result\n",
        "    return wrapper"
      ]
    },
    {
      "cell_type": "code",
      "execution_count": 9,
      "metadata": {},
      "outputs": [],
      "source": [
        "@timer\n",
        "def get_square(numbers) :\n",
        "    result = []\n",
        "    for n in numbers:\n",
        "        result.append(n*n)\n",
        "    return result"
      ]
    },
    {
      "cell_type": "code",
      "execution_count": 10,
      "metadata": {},
      "outputs": [
        {
          "name": "stdout",
          "output_type": "stream",
          "text": [
            "Function get_square took 2.276182174682617 seconds\n"
          ]
        }
      ],
      "source": [
        "_ = get_square(range(10000))"
      ]
    },
    {
      "cell_type": "code",
      "execution_count": null,
      "metadata": {},
      "outputs": [],
      "source": []
    }
  ],
  "metadata": {
    "colab": {
      "collapsed_sections": [],
      "name": "3_Strings.ipynb",
      "provenance": []
    },
    "kernelspec": {
      "display_name": "venv",
      "language": "python",
      "name": "python3"
    },
    "language_info": {
      "codemirror_mode": {
        "name": "ipython",
        "version": 3
      },
      "file_extension": ".py",
      "mimetype": "text/x-python",
      "name": "python",
      "nbconvert_exporter": "python",
      "pygments_lexer": "ipython3",
      "version": "3.10.11"
    }
  },
  "nbformat": 4,
  "nbformat_minor": 0
}
