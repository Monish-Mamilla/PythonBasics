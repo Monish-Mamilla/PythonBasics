{
  "cells": [
    {
      "cell_type": "markdown",
      "metadata": {},
      "source": [
        "#### List\n",
        "\n",
        "- Lists allows you to store sequential data\n",
        "- Lists are ordered, meaning each item has a fixed position unless explicitly changed.\n",
        "- Python lists can hold different data types in a single list, including numbers, strings, and other list. \n",
        "   This means they are heterogeneous. For example my_list = ['car', 4.5 , True]\n",
        "- Lists are mmutable, allowing for elements to be added, removed, or changed within the same list.\n",
        "- List slicing lets you access a specific range of elements quickly, using the syntax list[start:end:step]"
      ]
    },
    {
      "cell_type": "code",
      "execution_count": 1,
      "metadata": {},
      "outputs": [
        {
          "data": {
            "text/plain": [
              "['bread', 'pasta', 'fruits', 'veggies']"
            ]
          },
          "execution_count": 1,
          "metadata": {},
          "output_type": "execute_result"
        }
      ],
      "source": [
        "items = [\"bread\", \"pasta\", \"fruits\", \"veggies\"]\n",
        "items"
      ]
    },
    {
      "cell_type": "code",
      "execution_count": 2,
      "metadata": {},
      "outputs": [
        {
          "data": {
            "text/plain": [
              "['bread', 'pasta']"
            ]
          },
          "execution_count": 2,
          "metadata": {},
          "output_type": "execute_result"
        }
      ],
      "source": [
        "items[:2]"
      ]
    },
    {
      "cell_type": "code",
      "execution_count": 3,
      "metadata": {},
      "outputs": [],
      "source": [
        "items.append(\"butter\")"
      ]
    },
    {
      "cell_type": "code",
      "execution_count": 4,
      "metadata": {},
      "outputs": [
        {
          "data": {
            "text/plain": [
              "['bread', 'pasta', 'fruits', 'veggies', 'butter']"
            ]
          },
          "execution_count": 4,
          "metadata": {},
          "output_type": "execute_result"
        }
      ],
      "source": [
        "items"
      ]
    },
    {
      "cell_type": "code",
      "execution_count": 5,
      "metadata": {},
      "outputs": [],
      "source": [
        "\n",
        "# I want to add butter next to bread\n",
        "items.remove('butter')"
      ]
    },
    {
      "cell_type": "code",
      "execution_count": 6,
      "metadata": {},
      "outputs": [
        {
          "data": {
            "text/plain": [
              "['bread', 'pasta', 'fruits', 'veggies']"
            ]
          },
          "execution_count": 6,
          "metadata": {},
          "output_type": "execute_result"
        }
      ],
      "source": [
        "items"
      ]
    },
    {
      "cell_type": "code",
      "execution_count": 7,
      "metadata": {},
      "outputs": [],
      "source": [
        "items.insert(1,'butter')"
      ]
    },
    {
      "cell_type": "code",
      "execution_count": 8,
      "metadata": {},
      "outputs": [
        {
          "data": {
            "text/plain": [
              "['bread', 'butter', 'pasta', 'fruits', 'veggies']"
            ]
          },
          "execution_count": 8,
          "metadata": {},
          "output_type": "execute_result"
        }
      ],
      "source": [
        "items"
      ]
    },
    {
      "cell_type": "code",
      "execution_count": 9,
      "metadata": {},
      "outputs": [
        {
          "data": {
            "text/plain": [
              "['bread', 'cheese', 'pasta', 'fruits', 'veggies']"
            ]
          },
          "execution_count": 9,
          "metadata": {},
          "output_type": "execute_result"
        }
      ],
      "source": [
        "# We can update the list using the index. List is not immutable\n",
        "items[1] = 'cheese'\n",
        "items"
      ]
    },
    {
      "cell_type": "code",
      "execution_count": 10,
      "metadata": {},
      "outputs": [
        {
          "data": {
            "text/plain": [
              "['fruits', 'veggies']"
            ]
          },
          "execution_count": 10,
          "metadata": {},
          "output_type": "execute_result"
        }
      ],
      "source": [
        "items[3:]"
      ]
    },
    {
      "cell_type": "code",
      "execution_count": 11,
      "metadata": {},
      "outputs": [],
      "source": [
        "# We replace these two items with Almonds\n",
        "items[3:] = 'almonds'"
      ]
    },
    {
      "cell_type": "code",
      "execution_count": 12,
      "metadata": {},
      "outputs": [
        {
          "data": {
            "text/plain": [
              "['bread', 'cheese', 'pasta', 'a', 'l', 'm', 'o', 'n', 'd', 's']"
            ]
          },
          "execution_count": 12,
          "metadata": {},
          "output_type": "execute_result"
        }
      ],
      "source": [
        "items"
      ]
    },
    {
      "cell_type": "code",
      "execution_count": 13,
      "metadata": {},
      "outputs": [
        {
          "data": {
            "text/plain": [
              "[30, 45, 300, 1200]"
            ]
          },
          "execution_count": 13,
          "metadata": {},
          "output_type": "execute_result"
        }
      ],
      "source": [
        "expenses = [30,1200,45,300]\n",
        "\n",
        "expenses.sort()\n",
        "expenses"
      ]
    },
    {
      "cell_type": "code",
      "execution_count": 14,
      "metadata": {},
      "outputs": [
        {
          "data": {
            "text/plain": [
              "[1200, 300, 45, 30]"
            ]
          },
          "execution_count": 14,
          "metadata": {},
          "output_type": "execute_result"
        }
      ],
      "source": [
        "# we can sort in reverse order\n",
        "expenses.sort(reverse=True)\n",
        "expenses"
      ]
    },
    {
      "cell_type": "code",
      "execution_count": 16,
      "metadata": {},
      "outputs": [
        {
          "data": {
            "text/plain": [
              "10"
            ]
          },
          "execution_count": 16,
          "metadata": {},
          "output_type": "execute_result"
        }
      ],
      "source": [
        "# length of items\n",
        "len(items)"
      ]
    },
    {
      "cell_type": "code",
      "execution_count": 17,
      "metadata": {},
      "outputs": [
        {
          "data": {
            "text/plain": [
              "['__add__',\n",
              " '__class__',\n",
              " '__class_getitem__',\n",
              " '__contains__',\n",
              " '__delattr__',\n",
              " '__delitem__',\n",
              " '__dir__',\n",
              " '__doc__',\n",
              " '__eq__',\n",
              " '__format__',\n",
              " '__ge__',\n",
              " '__getattribute__',\n",
              " '__getitem__',\n",
              " '__gt__',\n",
              " '__hash__',\n",
              " '__iadd__',\n",
              " '__imul__',\n",
              " '__init__',\n",
              " '__init_subclass__',\n",
              " '__iter__',\n",
              " '__le__',\n",
              " '__len__',\n",
              " '__lt__',\n",
              " '__mul__',\n",
              " '__ne__',\n",
              " '__new__',\n",
              " '__reduce__',\n",
              " '__reduce_ex__',\n",
              " '__repr__',\n",
              " '__reversed__',\n",
              " '__rmul__',\n",
              " '__setattr__',\n",
              " '__setitem__',\n",
              " '__sizeof__',\n",
              " '__str__',\n",
              " '__subclasshook__',\n",
              " 'append',\n",
              " 'clear',\n",
              " 'copy',\n",
              " 'count',\n",
              " 'extend',\n",
              " 'index',\n",
              " 'insert',\n",
              " 'pop',\n",
              " 'remove',\n",
              " 'reverse',\n",
              " 'sort']"
            ]
          },
          "execution_count": 17,
          "metadata": {},
          "output_type": "execute_result"
        }
      ],
      "source": [
        "dir(items)"
      ]
    },
    {
      "cell_type": "code",
      "execution_count": 18,
      "metadata": {},
      "outputs": [
        {
          "data": {
            "text/plain": [
              "['car', 4.5, True]"
            ]
          },
          "execution_count": 18,
          "metadata": {},
          "output_type": "execute_result"
        }
      ],
      "source": [
        "# List in the python is not homogenious. List is storing the objects\n",
        "\n",
        "random = [\"car\", 4.5,True]\n",
        "random"
      ]
    },
    {
      "cell_type": "code",
      "execution_count": 20,
      "metadata": {},
      "outputs": [
        {
          "name": "stdout",
          "output_type": "stream",
          "text": [
            "1575\n"
          ]
        }
      ],
      "source": [
        "total_expense = 0\n",
        "for expense in expenses:\n",
        "    total_expense +=expense \n",
        "\n",
        "print(total_expense)"
      ]
    },
    {
      "cell_type": "code",
      "execution_count": 23,
      "metadata": {},
      "outputs": [
        {
          "name": "stdout",
          "output_type": "stream",
          "text": [
            "Month 1 , Expense: 1200\n",
            "Month 2 , Expense: 300\n",
            "Month 3 , Expense: 45\n",
            "Month 4 , Expense: 30\n",
            "Total expense 1575\n"
          ]
        }
      ],
      "source": [
        "total_exp = 0\n",
        "for i in range(len(expenses)) :\n",
        "    expense = expenses[i]\n",
        "    print(f\"Month {i+1} , Expense: {expense}\")\n",
        "    total_exp += expense\n",
        "\n",
        "print(f\"Total expense {total_exp}\")"
      ]
    },
    {
      "cell_type": "code",
      "execution_count": 24,
      "metadata": {},
      "outputs": [
        {
          "name": "stdout",
          "output_type": "stream",
          "text": [
            "Month 1, Expense: 1200\n",
            "Month 2, Expense: 300\n",
            "Month 3, Expense: 45\n",
            "Month 4, Expense: 30\n",
            "Total Expense: 1575\n"
          ]
        }
      ],
      "source": [
        "# We will use enumerate to loop the for loop\n",
        "total_exp_1 = 0\n",
        "for i , expense in enumerate(expenses) :\n",
        "    print(f\"Month {i+1}, Expense: {expense}\")\n",
        "    total_exp_1 += expense\n",
        "\n",
        "print(f\"Total Expense: {total_exp_1}\")"
      ]
    },
    {
      "cell_type": "code",
      "execution_count": 25,
      "metadata": {},
      "outputs": [
        {
          "name": "stdout",
          "output_type": "stream",
          "text": [
            "Jan sales is : 45000\n",
            "Feb sales is : 55000\n",
            "March sales is : 65000\n",
            "April sales is : 72000\n"
          ]
        }
      ],
      "source": [
        "montly_sales = [45000, 55000, 65000, 72000 ]\n",
        "months = [\"Jan\", \"Feb\", \"March\", \"April\"]\n",
        "\n",
        "# We will use zip which can generate tuple (key, value)\n",
        "\n",
        "for sale_amount , month in zip(montly_sales , months) :\n",
        "\n",
        "    print(f\"{month} sales is : { sale_amount}\")"
      ]
    }
  ],
  "metadata": {
    "colab": {
      "collapsed_sections": [],
      "name": "3_Strings.ipynb",
      "provenance": []
    },
    "kernelspec": {
      "display_name": "venv",
      "language": "python",
      "name": "python3"
    },
    "language_info": {
      "codemirror_mode": {
        "name": "ipython",
        "version": 3
      },
      "file_extension": ".py",
      "mimetype": "text/x-python",
      "name": "python",
      "nbconvert_exporter": "python",
      "pygments_lexer": "ipython3",
      "version": "3.10.11"
    }
  },
  "nbformat": 4,
  "nbformat_minor": 0
}
