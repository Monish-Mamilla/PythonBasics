{
  "cells": [
    {
      "cell_type": "code",
      "execution_count": 1,
      "metadata": {},
      "outputs": [
        {
          "data": {
            "text/plain": [
              "<_io.TextIOWrapper name='pricing.txt' mode='r' encoding='UTF-8'>"
            ]
          },
          "execution_count": 1,
          "metadata": {},
          "output_type": "execute_result"
        }
      ],
      "source": [
        "f = open(\"pricing.txt\",\"r\")\n",
        "\n",
        "iterator = iter(f)\n",
        "iterator"
      ]
    },
    {
      "cell_type": "code",
      "execution_count": 2,
      "metadata": {},
      "outputs": [
        {
          "data": {
            "text/plain": [
              "'MSFT|BRA|381.26|2023-10-27\\n'"
            ]
          },
          "execution_count": 2,
          "metadata": {},
          "output_type": "execute_result"
        }
      ],
      "source": [
        "next(iterator)"
      ]
    },
    {
      "cell_type": "code",
      "execution_count": 3,
      "metadata": {},
      "outputs": [
        {
          "data": {
            "text/plain": [
              "'CSCO|USA|187.64|2023-02-12\\n'"
            ]
          },
          "execution_count": 3,
          "metadata": {},
          "output_type": "execute_result"
        }
      ],
      "source": [
        "next(iterator)"
      ]
    },
    {
      "cell_type": "code",
      "execution_count": 5,
      "metadata": {},
      "outputs": [],
      "source": [
        "class RemoteControl:\n",
        "\n",
        "    def __init__(self):\n",
        "        self.channels = [\"HBO\",\"ESPN\",\"CNBC\"]\n",
        "        self.index = -1\n",
        "    \n",
        "    def __next__(self):\n",
        "        self.index +=1\n",
        "        if self.index == len(self.channels):\n",
        "            raise StopIteration\n",
        "        \n",
        "        return self.channels[self.index]\n",
        "    \n",
        "    def __iter__(self):\n",
        "        return self"
      ]
    },
    {
      "cell_type": "code",
      "execution_count": 6,
      "metadata": {},
      "outputs": [
        {
          "name": "stdout",
          "output_type": "stream",
          "text": [
            "HBO\n",
            "ESPN\n",
            "CNBC\n"
          ]
        }
      ],
      "source": [
        "rc = RemoteControl()\n",
        "for channel in rc :\n",
        "    print(channel)"
      ]
    },
    {
      "cell_type": "code",
      "execution_count": 7,
      "metadata": {},
      "outputs": [],
      "source": [
        "def remote_control():\n",
        "    yield \"HBO\"\n",
        "    yield \"ESPN\"\n",
        "    yield \"CNBC\""
      ]
    },
    {
      "cell_type": "code",
      "execution_count": 8,
      "metadata": {},
      "outputs": [
        {
          "data": {
            "text/plain": [
              "generator"
            ]
          },
          "execution_count": 8,
          "metadata": {},
          "output_type": "execute_result"
        }
      ],
      "source": [
        "rc_1 = remote_control()\n",
        "type(rc_1)"
      ]
    },
    {
      "cell_type": "code",
      "execution_count": 9,
      "metadata": {},
      "outputs": [
        {
          "name": "stdout",
          "output_type": "stream",
          "text": [
            "HBO\n",
            "ESPN\n",
            "CNBC\n"
          ]
        }
      ],
      "source": [
        "for channel in rc_1 :\n",
        "    print(channel)"
      ]
    },
    {
      "cell_type": "code",
      "execution_count": 12,
      "metadata": {},
      "outputs": [],
      "source": [
        "# We will use yield to generate fibonacci number\n",
        "\n",
        "def fibonacci():\n",
        "    a , b = 0,1\n",
        "    while True:\n",
        "        yield a\n",
        "        a , b = b , a+b\n",
        "    "
      ]
    },
    {
      "cell_type": "code",
      "execution_count": 13,
      "metadata": {},
      "outputs": [
        {
          "name": "stdout",
          "output_type": "stream",
          "text": [
            "0\n",
            "1\n",
            "1\n",
            "2\n",
            "3\n",
            "5\n",
            "8\n",
            "13\n",
            "21\n",
            "34\n"
          ]
        }
      ],
      "source": [
        "fib_gen = fibonacci()\n",
        "\n",
        "for num in range(10) :\n",
        "    print(next(fib_gen))"
      ]
    },
    {
      "cell_type": "code",
      "execution_count": null,
      "metadata": {},
      "outputs": [],
      "source": []
    }
  ],
  "metadata": {
    "colab": {
      "collapsed_sections": [],
      "name": "3_Strings.ipynb",
      "provenance": []
    },
    "kernelspec": {
      "display_name": "venv",
      "language": "python",
      "name": "python3"
    },
    "language_info": {
      "codemirror_mode": {
        "name": "ipython",
        "version": 3
      },
      "file_extension": ".py",
      "mimetype": "text/x-python",
      "name": "python",
      "nbconvert_exporter": "python",
      "pygments_lexer": "ipython3",
      "version": "3.10.11"
    }
  },
  "nbformat": 4,
  "nbformat_minor": 0
}
