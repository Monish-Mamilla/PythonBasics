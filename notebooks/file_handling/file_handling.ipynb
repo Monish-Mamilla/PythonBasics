{
  "cells": [
    {
      "cell_type": "code",
      "execution_count": 3,
      "metadata": {},
      "outputs": [
        {
          "name": "stdout",
          "output_type": "stream",
          "text": [
            "Teacher: Why are you late, raghu?\n",
            "\n",
            "Raghu: Because of the sign\n",
            "\n",
            "Teacher: What sign?\n",
            "\n",
            "Raghu: The one that says \"School Ahead, Go slow\"\n"
          ]
        }
      ],
      "source": [
        "f = open(\"funny.txt\", \"r\")\n",
        "for line in f:\n",
        "    print(line)\n",
        "\n",
        "f.close()"
      ]
    },
    {
      "cell_type": "code",
      "execution_count": 5,
      "metadata": {},
      "outputs": [
        {
          "name": "stdout",
          "output_type": "stream",
          "text": [
            "Teacher: Why are you late, raghu?\n",
            "\n",
            "Raghu: Because of the sign\n",
            "\n",
            "Teacher: What sign?\n",
            "\n",
            "Raghu: The one that says \"School Ahead, Go slow\"\n"
          ]
        }
      ],
      "source": [
        "with open(\"funny.txt\",\"r\") as f:\n",
        "\n",
        "    for line in f :\n",
        "        print(line)\n"
      ]
    },
    {
      "cell_type": "code",
      "execution_count": 6,
      "metadata": {},
      "outputs": [
        {
          "name": "stdout",
          "output_type": "stream",
          "text": [
            "Teacher: Why are you late, raghu?\n",
            "\n",
            "Raghu: Because of the sign\n",
            "\n",
            "Teacher: What sign?\n",
            "\n",
            "Raghu: The one that says \"School Ahead, Go slow\"\n"
          ]
        }
      ],
      "source": [
        "with open(\"funny.txt\",\"r\") as f :\n",
        "    lines = f.readlines()\n",
        "    for line in lines :\n",
        "        print(line)"
      ]
    },
    {
      "cell_type": "code",
      "execution_count": null,
      "metadata": {},
      "outputs": [],
      "source": []
    },
    {
      "cell_type": "code",
      "execution_count": 12,
      "metadata": {},
      "outputs": [],
      "source": [
        "with open(\"python_tutorial\",\"w\") as f:\n",
        "      f.write(\"Python is easy language to learn\\n\")"
      ]
    },
    {
      "cell_type": "code",
      "execution_count": 13,
      "metadata": {},
      "outputs": [],
      "source": [
        "# I want to append data to existing file\n",
        "\n",
        "with open(\"python_tutorial\",\"a\") as f :\n",
        "    f.write(\"\\nLot of Machine Learning packages available in the python language\\n\")"
      ]
    },
    {
      "cell_type": "code",
      "execution_count": 23,
      "metadata": {},
      "outputs": [
        {
          "data": {
            "text/plain": [
              "{'rohit': [9, 120, 105, 140, 130],\n",
              " 'shakib': [56, 78, 102, 72],\n",
              " 'babar': [56, 45, 120, 5, 67]}"
            ]
          },
          "execution_count": 23,
          "metadata": {},
          "output_type": "execute_result"
        }
      ],
      "source": [
        "\n",
        "player_scores = {}\n",
        "\n",
        "with open(\"scores.csv\",\"r\") as f:\n",
        "    for line in f :\n",
        "       player , _ , score = line.split(\",\")\n",
        "       score = int(score.strip())\n",
        "       if player in  player_scores :\n",
        "           player_scores[player].append(score)\n",
        "       else :\n",
        "           player_scores[player] = [score]\n",
        "\n",
        "player_scores"
      ]
    },
    {
      "cell_type": "code",
      "execution_count": 24,
      "metadata": {},
      "outputs": [
        {
          "name": "stdout",
          "output_type": "stream",
          "text": [
            "rohit  Min Score : 9  Max Score : 140 Avg Score : 100.8\n",
            "shakib  Min Score : 56  Max Score : 102 Avg Score : 77.0\n",
            "babar  Min Score : 5  Max Score : 120 Avg Score : 58.6\n"
          ]
        }
      ],
      "source": [
        "for player, scores in player_scores.items() :\n",
        "    min_score = min(scores)\n",
        "    max_score = max(scores)\n",
        "    avg_score = sum(scores) / len(scores)\n",
        "\n",
        "    print(f\"{player}  Min Score : {min_score}  Max Score : {max_score} Avg Score : {avg_score}\")"
      ]
    },
    {
      "cell_type": "code",
      "execution_count": 4,
      "metadata": {},
      "outputs": [],
      "source": [
        "with open(\"dummy.txt\",\"w\") as f :\n",
        "    f.write(\"dummy file\")\n",
        "    "
      ]
    },
    {
      "cell_type": "code",
      "execution_count": 6,
      "metadata": {},
      "outputs": [
        {
          "name": "stdout",
          "output_type": "stream",
          "text": [
            "File is not exists\n"
          ]
        }
      ],
      "source": [
        "import os\n",
        "if os.path.exists(\"dummy.txt\") :\n",
        "    os.remove(\"dummy.txt\")\n",
        "else :\n",
        "    print(\"File is not exists\")"
      ]
    },
    {
      "cell_type": "code",
      "execution_count": null,
      "metadata": {},
      "outputs": [],
      "source": []
    }
  ],
  "metadata": {
    "colab": {
      "collapsed_sections": [],
      "name": "3_Strings.ipynb",
      "provenance": []
    },
    "kernelspec": {
      "display_name": "venv",
      "language": "python",
      "name": "python3"
    },
    "language_info": {
      "codemirror_mode": {
        "name": "ipython",
        "version": 3
      },
      "file_extension": ".py",
      "mimetype": "text/x-python",
      "name": "python",
      "nbconvert_exporter": "python",
      "pygments_lexer": "ipython3",
      "version": "3.10.11"
    }
  },
  "nbformat": 4,
  "nbformat_minor": 0
}
