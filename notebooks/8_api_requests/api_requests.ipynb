{
  "cells": [
    {
      "cell_type": "markdown",
      "metadata": {},
      "source": [
        "### API Calls using requests "
      ]
    },
    {
      "cell_type": "code",
      "execution_count": 1,
      "metadata": {},
      "outputs": [],
      "source": [
        "import requests"
      ]
    },
    {
      "cell_type": "code",
      "execution_count": 2,
      "metadata": {},
      "outputs": [],
      "source": [
        "url = \"https://jsonplaceholder.typicode.com/posts\""
      ]
    },
    {
      "cell_type": "code",
      "execution_count": 3,
      "metadata": {},
      "outputs": [
        {
          "data": {
            "text/plain": [
              "<Response [200]>"
            ]
          },
          "execution_count": 3,
          "metadata": {},
          "output_type": "execute_result"
        }
      ],
      "source": [
        "responses = requests.get(url)\n",
        "responses"
      ]
    },
    {
      "cell_type": "code",
      "execution_count": 7,
      "metadata": {},
      "outputs": [
        {
          "data": {
            "text/plain": [
              "200"
            ]
          },
          "execution_count": 7,
          "metadata": {},
          "output_type": "execute_result"
        }
      ],
      "source": [
        "status_code = responses.status_code\n",
        "status_code"
      ]
    },
    {
      "cell_type": "code",
      "execution_count": 12,
      "metadata": {},
      "outputs": [
        {
          "name": "stdout",
          "output_type": "stream",
          "text": [
            "{'userId': 1, 'id': 1, 'title': 'sunt aut facere repellat provident occaecati excepturi optio reprehenderit', 'body': 'quia et suscipit\\nsuscipit recusandae consequuntur expedita et cum\\nreprehenderit molestiae ut ut quas totam\\nnostrum rerum est autem sunt rem eveniet architecto'}\n"
          ]
        }
      ],
      "source": [
        "if responses.status_code == 200 :\n",
        "    data = responses.json()\n",
        "    print(data[0])\n",
        "else :\n",
        "    print(f\"Failed to load the data\")"
      ]
    },
    {
      "cell_type": "markdown",
      "metadata": {},
      "source": [
        "#### POST Request - API Call"
      ]
    },
    {
      "cell_type": "code",
      "execution_count": 13,
      "metadata": {},
      "outputs": [
        {
          "name": "stdout",
          "output_type": "stream",
          "text": [
            "{'title': 'foo', 'body': 'bar', 'userId': 1, 'id': 101}\n"
          ]
        }
      ],
      "source": [
        "url = \"https://jsonplaceholder.typicode.com/posts\"\n",
        "# Data to send in the POST request\n",
        "data = {\n",
        "    \"title\": \"foo\",\n",
        "    \"body\": \"bar\",\n",
        "    \"userId\": 1\n",
        "}\n",
        "\n",
        "# Sending a POST request\n",
        "response = requests.post(url, json=data)\n",
        "\n",
        "# Checking the status code of the response\n",
        "if response.status_code == 201:\n",
        "    # Parsing the JSON data\n",
        "    created_post = response.json()\n",
        "    # Printing the created post\n",
        "    print(created_post)\n",
        "else:\n",
        "    print(\"Failed to create data\")"
      ]
    },
    {
      "cell_type": "markdown",
      "metadata": {},
      "source": [
        "#### Common Status Codes\n",
        "\n",
        "1. 200: OK (The request was successful).\n",
        "1. 201: Created (The resource was successfully created).\n",
        "1. 400: Bad Request (The server could not understand the request).\n",
        "1. 401: Unauthorized (Authentication is required).\n",
        "1. 404: Not Found (The requested resource could not be found).\n",
        "1. 500: Internal Server Error (The server encountered an error)."
      ]
    },
    {
      "cell_type": "markdown",
      "metadata": {},
      "source": [
        "### Handling Different Status Codes"
      ]
    },
    {
      "cell_type": "code",
      "execution_count": 15,
      "metadata": {},
      "outputs": [
        {
          "data": {
            "text/plain": [
              "200"
            ]
          },
          "execution_count": 15,
          "metadata": {},
          "output_type": "execute_result"
        }
      ],
      "source": [
        "url = \"https://jsonplaceholder.typicode.com/posts\"\n",
        "\n",
        "params = {\n",
        "    \"userId\" : 1\n",
        "}\n",
        "response = requests.get(url,params=params)\n",
        "\n",
        "response.status_code"
      ]
    },
    {
      "cell_type": "code",
      "execution_count": null,
      "metadata": {},
      "outputs": [],
      "source": []
    }
  ],
  "metadata": {
    "colab": {
      "collapsed_sections": [],
      "name": "3_Strings.ipynb",
      "provenance": []
    },
    "kernelspec": {
      "display_name": "venv",
      "language": "python",
      "name": "python3"
    },
    "language_info": {
      "codemirror_mode": {
        "name": "ipython",
        "version": 3
      },
      "file_extension": ".py",
      "mimetype": "text/x-python",
      "name": "python",
      "nbconvert_exporter": "python",
      "pygments_lexer": "ipython3",
      "version": "3.10.11"
    }
  },
  "nbformat": 4,
  "nbformat_minor": 0
}
